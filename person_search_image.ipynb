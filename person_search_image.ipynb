{
  "cells": [
    {
      "cell_type": "code",
      "execution_count": null,
      "metadata": {
        "id": "mtMWs_-xH9Z4"
      },
      "outputs": [],
      "source": [
        "import os\n",
        "from retinaface import RetinaFace\n",
        "from deepface import DeepFace\n",
        "from PIL import Image\n",
        "import numpy as np\n",
        "import shutil\n",
        "class FaceSearchService:\n",
        "    def __init__(self):\n",
        "        self.image_cache = {}\n",
        "\n",
        "    def load_images(self, images_folder):\n",
        "        if images_folder not in self.image_cache:\n",
        "            image_files = [os.path.join(images_folder, f) for f in os.listdir(images_folder) if f.endswith(('.png', '.jpg', '.jpeg'))]\n",
        "            images = {}\n",
        "            for image_path in image_files:\n",
        "                try:\n",
        "                    with Image.open(image_path) as img:\n",
        "                        images[image_path] = img.copy()  # Hafızada bir kopyasını sakla\n",
        "                except Exception as e:\n",
        "                    print(f\"Error loading image {image_path}: {e}\")\n",
        "            self.image_cache[images_folder] = images\n",
        "\n",
        "    def face_recognition_on_image(self, image, db_path= \"demoData/\"):\n",
        "        results = []\n",
        "        try:\n",
        "            image_np = np.array(image)\n",
        "            faces = RetinaFace.detect_faces(image_np)\n",
        "        except Exception as e:\n",
        "            print(\"Face detection error:\", e)\n",
        "            return []\n",
        "\n",
        "        if faces is None or not faces:\n",
        "            print(\"No faces detected.\")\n",
        "            return []\n",
        "\n",
        "        for face_id, face_info in faces.items():\n",
        "            facial_area = face_info['facial_area']\n",
        "            x, y, w, h = facial_area\n",
        "            face_image = image.crop((x, y, w, h))\n",
        "            if face_image.mode != 'RGB':\n",
        "                face_image = face_image.convert('RGB')\n",
        "\n",
        "            face_image.save(\"temp_face.jpg\")\n",
        "            try:\n",
        "                result = DeepFace.find(img_path=\"temp_face.jpg\", db_path=db_path, model_name='ArcFace', detector_backend='retinaface', enforce_detection=False, threshold=0.2)\n",
        "                identity = result[0].iloc[0]['identity']\n",
        "                person_name = os.path.basename(os.path.dirname(identity))\n",
        "                person_distance = 1 - result[0].iloc[0]['distance']\n",
        "                results.append({'name': person_name, 'distance': person_distance})\n",
        "            except Exception as e:\n",
        "                print(\"Recognition error:\", e)\n",
        "                results.append({'name': \"No match found\", 'distance': \"N/A\"})\n",
        "        return results\n",
        "\n",
        "    def face_search_retina(self, person_name, images_folder=\"content/uniq2\"):\n",
        "        self.load_images(images_folder)\n",
        "        found_images = []\n",
        "        for image_path, image in self.image_cache[images_folder].items():\n",
        "            result = self.face_recognition_on_image(image)\n",
        "            if result and any(person_name.lower() in res['name'].lower() for res in result):\n",
        "                found_images.append(image_path)  # Resim yerine resim yolu ekleyin\n",
        "        return found_images\n",
        "\n",
        "if __name__ == '__main__':\n",
        "    service = FaceSearchService()\n",
        "    person_name = 'receptayyiperdogan'\n",
        "    found_images = service.face_search_retina(person_name)\n",
        "    print(f\"Found {len(found_images)} images containing '{person_name}':\")\n",
        "    for i, image_path in enumerate(found_images, 1):\n",
        "\n",
        "        print(f\"Image {i}: {image_path}\")  # Resim yolu yazdırılıyor"
      ]
    }
  ],
  "metadata": {
    "colab": {
      "provenance": []
    },
    "kernelspec": {
      "display_name": "Python 3",
      "name": "python3"
    },
    "language_info": {
      "name": "python"
    }
  },
  "nbformat": 4,
  "nbformat_minor": 0
}
